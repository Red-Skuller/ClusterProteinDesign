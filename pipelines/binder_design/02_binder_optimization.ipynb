{
 "cells": [
  {
   "cell_type": "code",
   "execution_count": null,
   "metadata": {},
   "outputs": [],
   "source": [
    "import os\n",
    "import glob\n",
    "import subprocess\n",
    "import pandas as pd"
   ]
  },
  {
   "attachments": {},
   "cell_type": "markdown",
   "metadata": {},
   "source": [
    "# Filter sequences"
   ]
  },
  {
   "cell_type": "code",
   "execution_count": null,
   "metadata": {},
   "outputs": [],
   "source": [
    "input=\"dom2-combined\"\n",
    "best_binders=pd.read_csv(f\"output/{input}/af2_best.csv\")\n",
    "#all_binders=pd.read_csv(f\"output/{input}/af2_results.csv\")\n",
    "best_binders"
   ]
  },
  {
   "cell_type": "code",
   "execution_count": null,
   "metadata": {},
   "outputs": [],
   "source": [
    "#filtered = best_binders[(best_binders[\"rmsd\"]<3)&(best_binders[\"binder-rmsd\"]<4)&(best_binders[\"plddt\"]>0.84)]\n",
    "filtered = best_binders[(best_binders[\"plddt\"]>0.9)&(best_binders[\"i_pae\"]<7)&(best_binders[\"rmsd\"]<3)]\n",
    "\n",
    "filtered = filtered.sort_values(by='plddt', ascending=False)\n",
    "filtered"
   ]
  },
  {
   "attachments": {},
   "cell_type": "markdown",
   "metadata": {},
   "source": [
    "# Prepare folder of best binders"
   ]
  },
  {
   "cell_type": "code",
   "execution_count": null,
   "metadata": {},
   "outputs": [],
   "source": [
    "# Create output dir\n",
    "binder_folder=\"input\"\n",
    "output_dir=f\"output/{input}/opt_binders\"\n",
    "binders_input=f\"{output_dir}/{binder_folder}\"\n",
    "os.makedirs(f\"{binders_input}\", exist_ok=True)\n",
    "\n",
    "# Copy binder inputs to new dir\n",
    "pdbs=filtered[\"model_path\"].to_list()\n",
    "for pdb in pdbs:\n",
    "    !cp $pdb $binders_input\n",
    "\n",
    "# Count .pdb files in the folder\n",
    "pdb_files = glob.glob(os.path.join(binders_input, \"*.pdb\"))\n",
    "pdb_count = len(pdb_files)\n",
    "print(f\"Number of binders to optimize: {pdb_count}. Will run {pdb_count} arrays\")"
   ]
  },
  {
   "attachments": {},
   "cell_type": "markdown",
   "metadata": {},
   "source": [
    "# Run optimization for each binder in parallel"
   ]
  },
  {
   "cell_type": "code",
   "execution_count": null,
   "metadata": {},
   "outputs": [],
   "source": [
    "\n",
    "# Binder optimization parameters\n",
    "iterations=30\n",
    "starting_mpnns=200\n",
    "\n",
    "designs_per_iteration=10\n",
    "mpnn_per_design=5\n",
    "sort=\"i_pae\"\n",
    "\n",
    "af2_recycles=12\n",
    "mpnn_sampling_temp=0.15\n",
    "\n",
    "array_number=pdb_count\n",
    "array_limit=10\n",
    "\n",
    "# Script arguments\n",
    "bash_arguments=f\"--output=/dev/null --array=0-{array_number-1}%{array_limit}\"\n",
    "script_arguments=f\"{binders_input} {output_dir} {iterations} {starting_mpnns} {designs_per_iteration} {mpnn_per_design} {sort} {af2_recycles} {mpnn_sampling_temp}\"\n",
    "\n",
    "command = f\"sbatch {bash_arguments} helper_scripts/binder_opt.sh {script_arguments}\"\n",
    "\n",
    "print(f\"command will run {array_number} binder optimizations, each doing\")\n",
    "print(f\"{iterations} iterations with {designs_per_iteration*mpnn_per_design} sampled designs.\")\n",
    "print(f\"Each script will return {iterations*designs_per_iteration*mpnn_per_design} designs ({iterations*designs_per_iteration*mpnn_per_design*array_number} in total)\")\n",
    "print(command)"
   ]
  },
  {
   "cell_type": "code",
   "execution_count": null,
   "metadata": {},
   "outputs": [],
   "source": [
    "# Run the array bash script\n",
    "subprocess.run(command, shell=True)"
   ]
  },
  {
   "cell_type": "code",
   "execution_count": null,
   "metadata": {},
   "outputs": [],
   "source": [
    "!squeue --me"
   ]
  },
  {
   "cell_type": "code",
   "execution_count": null,
   "metadata": {},
   "outputs": [],
   "source": []
  }
 ],
 "metadata": {
  "kernelspec": {
   "display_name": "pyro",
   "language": "python",
   "name": "python3"
  },
  "language_info": {
   "codemirror_mode": {
    "name": "ipython",
    "version": 3
   },
   "file_extension": ".py",
   "mimetype": "text/x-python",
   "name": "python",
   "nbconvert_exporter": "python",
   "pygments_lexer": "ipython3",
   "version": "3.12.2"
  },
  "orig_nbformat": 4
 },
 "nbformat": 4,
 "nbformat_minor": 2
}
